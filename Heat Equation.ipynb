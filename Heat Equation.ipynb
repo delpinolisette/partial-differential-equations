{
 "cells": [
  {
   "cell_type": "markdown",
   "metadata": {},
   "source": [
    "# The One-Dimensional Heat Equation (Derivation)"
   ]
  },
  {
   "cell_type": "markdown",
   "metadata": {},
   "source": [
    "Rod of ...\n",
    "   - $L$ Length\n",
    "   - $x = a$ to $x = b$, $b-a = L$ on x axis\n",
    "   - $u(x,t)$ = temperature at position x on rod at time t for $a \\leq x \\leq b$ and $t \\geq 0$\n",
    "   - Conservation principle : $E_{input} + E_{generation} = E_{output} + E_{stored}$\n",
    "       - $E_{input}$ = amt of thermal energy per cross sectional area that flows into the rod\n",
    "       - $E_{generation}$ = amt of thermal energy per corss sectional area that is generated in the same section of the rod\n",
    "       - $E_{output}$ = amt of thermal energy flowing out of the rod at cross section\n",
    "       - $E_{stored}$ = amt of thermal energy stored in rod in cross sectional area. \n",
    "   - all measured in Joules per meteres^2\n",
    "   - conservation of energy in rate of change:\n",
    "       - [ 2 ]$dE_{input}/dt + dE_{input}/dt = dE_{output}/dt + dE_{stored}/dt$ \n",
    "       - measured in $J/(m^2*sec)$ or $W/m^2$"
   ]
  },
  {
   "cell_type": "markdown",
   "metadata": {},
   "source": [
    "## Thermal Energy Density\n",
    "\n",
    "To use formula [2] to derive heat eq $u(x,t)$ :\n",
    "\n",
    "- $e$ = $e(x,t)$ = thermal energy density within rod = in units of energy per volume $J / m^3$, depends on time and position. \n",
    "\n",
    "   "
   ]
  },
  {
   "cell_type": "markdown",
   "metadata": {},
   "source": [
    "## Heat Flux\n",
    "\n",
    "In 1D rod, there is\n",
    "- heat flow left ($x < 0$)\n",
    "- heat flow right ($x > 0$)\n",
    "- NO lateral heat flow, rod is insulated along laterial surface. \n",
    "\n",
    "Heat Flow is :\n",
    "- $\\phi(x,t)$ = vector = \"heat flux\" \n",
    "    - amt of thermal energy per area, per unit time, flowing along the x axis\n",
    "    - units measured in energy per area per time = $J / (m^2 *sec)$ or $W / m^2$\n",
    "- heat flow right => $\\phi(x,t) > 0$\n",
    "- heat flow left => $\\phi(x,t) < 0$\n"
   ]
  },
  {
   "cell_type": "markdown",
   "metadata": {},
   "source": [
    "## Heat Sources or Sinks:\n",
    "\n"
   ]
  },
  {
   "cell_type": "code",
   "execution_count": null,
   "metadata": {},
   "outputs": [],
   "source": []
  }
 ],
 "metadata": {
  "kernelspec": {
   "display_name": "Python 3",
   "language": "python",
   "name": "python3"
  },
  "language_info": {
   "codemirror_mode": {
    "name": "ipython",
    "version": 3
   },
   "file_extension": ".py",
   "mimetype": "text/x-python",
   "name": "python",
   "nbconvert_exporter": "python",
   "pygments_lexer": "ipython3",
   "version": "3.8.3"
  }
 },
 "nbformat": 4,
 "nbformat_minor": 4
}
