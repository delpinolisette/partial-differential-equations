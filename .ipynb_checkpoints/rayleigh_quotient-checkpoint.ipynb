{
 "cells": [
  {
   "cell_type": "markdown",
   "metadata": {},
   "source": [
    "# Rayleigh Quotients\n",
    "\n",
    "Given a Regular Sturm Liouville Problem, in RSLP form:\n",
    "$$\\frac{d}{dx}(s(x)p'(x)) + q(x)\\phi(x) + \\lambda(x)w(x)\\phi(x)$$ $$x \\in (\\alpha, \\beta)$$ and Boundary conditions. The RSLP problem can be reached from a second order ODE of the form: $$a_2(x)\\phi''(x) + a_1(x)\\phi'(x) + a_0(x)\\phi(x) + \\lambda b(x)\\phi(x) = 0, a_s(x) > 0$$\n",
    "\n",
    "with $$s(x)=exp(\\int\\frac{a_1(x)}{a_2(x)} dx)$$\n",
    "\n",
    "Then the Rayleigh Quotient takes in a function and spits out a ratio of two integrals. \n",
    "$$RQ[\\phi(x)] = \\frac{\\int_{\\alpha}^{\\beta}s(x)\\phi'(x)^2 - q(x)\\phi(x)^2 dx - (s(x)\\phi(x)\\phi'(x)\\Big|_{\\alpha}^{\\beta})}{20}$$\n",
    "\n"
   ]
  },
  {
   "cell_type": "code",
   "execution_count": 2,
   "metadata": {},
   "outputs": [
    {
     "name": "stdout",
     "output_type": "stream",
     "text": [
      "quotients\n"
     ]
    }
   ],
   "source": [
    "# test code block\n",
    "print(\"quotients\")"
   ]
  },
  {
   "cell_type": "code",
   "execution_count": null,
   "metadata": {},
   "outputs": [],
   "source": []
  }
 ],
 "metadata": {
  "kernelspec": {
   "display_name": "Python 3",
   "language": "python",
   "name": "python3"
  },
  "language_info": {
   "codemirror_mode": {
    "name": "ipython",
    "version": 3
   },
   "file_extension": ".py",
   "mimetype": "text/x-python",
   "name": "python",
   "nbconvert_exporter": "python",
   "pygments_lexer": "ipython3",
   "version": "3.8.3"
  }
 },
 "nbformat": 4,
 "nbformat_minor": 2
}
