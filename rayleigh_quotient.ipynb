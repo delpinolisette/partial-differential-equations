{
 "metadata": {
  "language_info": {
   "codemirror_mode": {
    "name": "ipython",
    "version": 3
   },
   "file_extension": ".py",
   "mimetype": "text/x-python",
   "name": "python",
   "nbconvert_exporter": "python",
   "pygments_lexer": "ipython3",
   "version": "3.8.3-final"
  },
  "orig_nbformat": 2,
  "kernelspec": {
   "name": "python3",
   "display_name": "Python 3"
  }
 },
 "nbformat": 4,
 "nbformat_minor": 2,
 "cells": [
  {
   "source": [
    "# Rayleigh Quotients\n",
    "\n",
    "Given a Regular Sturm Liouville Problem, in RSLP form:\n",
    "$$\\frac{d}{dx}(s(x)p'(x)) + q(x)\\phi(x) + \\lambda(x)w(x)\\phi(x)$$ $$x \\in (\\alpha, \\beta)$$ and Boundary conditions. The RSLP problem can be reached from a second order ODE of the form: $$a_2(x)\\phi''(x) + a_1(x)\\phi'(x) + a_0(x)\\phi(x) + \\lambda b(x)\\phi(x) = 0, a_s(x) > 0$$\n",
    "\n",
    "with $$s(x)=exp(\\int\\frac{a_1(x)}{a_2(x)} dx)$$ and \n",
    "$$w(x) = \\frac{b(x)s(x)}{a_2(x)}$$ is the weight function for the dot product $f \\cdot g = \\int_{\\alpha}^{\\beta}f(x)g(x)w(x) dx$\n",
    "$$q(x) = \\frac{a_0(x)s(x)}{a_2(x)}$$\n",
    "\n",
    "Then the Rayleigh Quotient takes in a function and spits out a ratio of two integrals. \n",
    "$$RQ[\\phi(x)] = \\frac{\\int_{\\alpha}^{\\beta}s(x)\\phi'(x)^2 - q(x)\\phi(x)^2 dx - (s(x)\\phi(x)\\phi'(x)\\Big|_{\\alpha}^{\\beta})}{\\int_{\\alpha}^{\\beta}\\phi(x)^2w(x)dx}$$\n",
    "\n"
   ],
   "cell_type": "markdown",
   "metadata": {}
  },
  {
   "source": [
    "### Why Rayleigh Quotients?\n",
    "\n",
    "They give us pretty good estimates for the first eigenvalue of our ODE. \n",
    "We can estimate $\\pi$ by taking the Rayleigh Quotient of our favorite ODE $\\phi''(x) + \\lambda\\phi(x) = 0, \\phi(0) = \\phi(1) = 0$ and using an appropriate family of functions to minimize the RQ. "
   ],
   "cell_type": "markdown",
   "metadata": {}
  },
  {
   "source": [
    "### Example 1\n",
    "\n",
    "Given the ODE $$\\phi''(x) +\\lambda\\phi(x) = 0$$, boundary conditions $\\phi(0) + \\phi'(0) = \\phi(1) = 0$ and "
   ],
   "cell_type": "markdown",
   "metadata": {}
  }
 ]
}