{
 "metadata": {
  "language_info": {
   "codemirror_mode": {
    "name": "ipython",
    "version": 3
   },
   "file_extension": ".py",
   "mimetype": "text/x-python",
   "name": "python",
   "nbconvert_exporter": "python",
   "pygments_lexer": "ipython3",
   "version": 3
  },
  "orig_nbformat": 2
 },
 "nbformat": 4,
 "nbformat_minor": 2,
 "cells": [
  {
   "source": [
    "# Bessel Functions and the Frobenius' Method\n",
    "\n",
    "In order to solve the heat equation in a circular disk, we will need to understand Bessel Functions. \n",
    "\n",
    "Note: $\\nu$ read as 'Nu'\n",
    "\n",
    "#### ODE 1:\n",
    "\n",
    "$$x^2y''(x)+ay'(x)+(x^2-\\nu^2)y(x) = 0$$ with $$x>0, \\nu \\geq 0$$\n",
    "\n",
    "Can be solved with the Frobenius' Method (FB). FB assumes a series solution of the form $$y(x,s) = \\sum_{n=0}^{\\infty}a_n(s)x^{n+s}$$ where:\n",
    "\n",
    "1. $s$ is the parameter (that we want to determine) and \n",
    "\n",
    "2. $a_n(s)$ for $ n=0,1,2,...$ are functions of x (that we want to determine). \n",
    "\n",
    "3. $a_n(s) \\neq 0$\n",
    "\n",
    "These assumptions give us : $$y(x,s) = \\sum_{n=0}^{\\infty}a_n(s)x^{n+s}$$ \n",
    "$$y'(x,s) = \\sum_{n=0}^{\\infty}a_n(s)(n+s)x^{n+s-1}$$ \n",
    "$$y''(x,s) = \\sum_{n=0}^{\\infty}a_n(s)(n+s)(n+s-1)x^{n+s-2}$$\n",
    "\n",
    "\n",
    "\n",
    "Plugging these into the original **ODE 1** we get that the powers of x are restored to the form $x^{n+s}$:\n",
    "\n",
    "$$(x^2)(\\sum_{n=0}^{\\infty}a_n(s)(n+s)(n+s-1)x^{n+s-2}) + (x)(\\sum_{n=0}^{\\infty}a_n(s)(n+s)x^{n+s-1}) + (x^2-\\nu^2)(\\sum_{n=0}^{\\infty}a_n(s)x^{n+s}) = 0$$\n",
    "\n",
    "$$(\\sum_{n=0}^{\\infty}a_n(s)(n+s)(n+s-1)x^{n+s}) + (\\sum_{n=0}^{\\infty}a_n(s)(n+s)x^{n+s} + (x^2-\\nu^2)(\\sum_{n=0}^{\\infty}a_n(s)x^{n+s}) = 0$$\n",
    "\n",
    "Collection common powers of x we get:\n",
    "\n"
   ],
   "cell_type": "markdown",
   "metadata": {}
  },
  {
   "source": [
    "# References:\n",
    "\n",
    "1. my notes from a class on Partial Differential Eqs at Penn\n",
    "2. Dr. Michael Carchidi's Notes - \"Cooling a Fluid Flowing in a Pipe Using\n",
    "a Thin Circular Fin\"\n",
    "3. "
   ],
   "cell_type": "markdown",
   "metadata": {}
  }
 ]
}