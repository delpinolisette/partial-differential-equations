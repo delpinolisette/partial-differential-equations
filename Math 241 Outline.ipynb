{
 "cells": [
  {
   "cell_type": "markdown",
   "metadata": {},
   "source": [
    "# The One-Dimensional Heat Equation (Derivation)\n",
    "\n",
    "Until specified, all this is material "
   ]
  },
  {
   "cell_type": "markdown",
   "metadata": {},
   "source": [
    "Rod of ...\n",
    "   - $L$ Length\n",
    "   - $x = a$ to $x = b$, $b-a = L$ on x axis\n",
    "   - $u(x,t)$ = temperature at position x on rod at time t for $a \\leq x \\leq b$ and $t \\geq 0$\n",
    "   - Conservation principle : $E_{input} + E_{generation} = E_{output} + E_{stored}$\n",
    "       - $E_{input}$ = amt of thermal energy per cross sectional area that flows into the rod\n",
    "       - $E_{generation}$ = amt of thermal energy per corss sectional area that is generated in the same section of the rod\n",
    "       - $E_{output}$ = amt of thermal energy flowing out of the rod at cross section\n",
    "       - $E_{stored}$ = amt of thermal energy stored in rod in cross sectional area. \n",
    "   - all measured in Joules per meteres^2\n",
    "   - conservation of energy in rate of change:\n",
    "       - [ 2 ]$dE_{input}/dt + dE_{input}/dt = dE_{output}/dt + dE_{stored}/dt$ \n",
    "       - measured in $J/(m^2*sec)$ or $W/m^2$"
   ]
  },
  {
   "cell_type": "markdown",
   "metadata": {},
   "source": [
    "## Thermal Energy Density\n",
    "\n",
    "To use formula [2] to derive heat eq $u(x,t)$ :\n",
    "\n",
    "- $e$ = $e(x,t)$ = thermal energy density within rod = in units of energy per volume $J / m^3$, depends on time and position. \n",
    "\n",
    "   "
   ]
  },
  {
   "cell_type": "markdown",
   "metadata": {},
   "source": [
    "## Heat Flux\n",
    "\n",
    "In 1D rod, there is\n",
    "- heat flow left ($x < 0$)\n",
    "- heat flow right ($x > 0$)\n",
    "- NO lateral heat flow, rod is insulated along laterial surface. \n",
    "\n",
    "Heat Flow is :\n",
    "- $\\phi(x,t)$ = vector = \"heat flux\" \n",
    "    - amt of thermal energy per area, per unit time, flowing along the x axis\n",
    "    - units measured in energy per area per time = $J / (m^2 *sec)$ or $W / m^2$\n",
    "- heat flow right => $\\phi(x,t) > 0$\n",
    "- heat flow left => $\\phi(x,t) < 0$\n"
   ]
  },
  {
   "cell_type": "markdown",
   "metadata": {},
   "source": [
    "## Heat Sources or Sinks:\n",
    "\n",
    "Make heat equation precise by allowing for internal sources of heat : \n",
    "- $Q(x,t,u)$ = thermal energy generated per unit volume, per unit time\n",
    "- units are $J/m^3sec$ or $W/m^3$ (energy per volume per time)\n",
    "- function of time, position, AND temperature. \n",
    "- $Q(x,t,u)$ > 0 => heat source inside rod is generating heat\n",
    "- $Q(x,t,u)$ < 0 => heat sink allowing heat to leave rod\n"
   ]
  },
  {
   "cell_type": "markdown",
   "metadata": {},
   "source": [
    "## Conservation of Energy\n",
    "\n",
    "Use equation [2] on a slice of the rod from $x=a$ to $x=b$ and we get :\n",
    "1. $$\\frac{dE_{input}}{dt} + \\frac{dE_{generation}}{dt} = \\frac{dE_{output}}{dt} + \\frac{dE_{stored}}{dt}$$"
   ]
  },
  {
   "cell_type": "markdown",
   "metadata": {},
   "source": [
    "2. From thermal energy generate per unit volume per unit time, we have :\n",
    "\n",
    "$$\\frac{dE_{generation}}{dt} = \\int_{a}^{b}Q(x,t,u)dx$$ "
   ]
  },
  {
   "cell_type": "markdown",
   "metadata": {},
   "source": [
    "3. $$\\frac{dE_{input}}{dt} = \\phi(a,t)$$"
   ]
  },
  {
   "cell_type": "markdown",
   "metadata": {},
   "source": [
    "4. $$\\frac{dE_{output}}{dt} = \\phi(b,t)$$"
   ]
  },
  {
   "cell_type": "markdown",
   "metadata": {},
   "source": [
    "5. $$\\frac{dE_{stored}}{dt} = \\frac{d}{dt}\\int_{a}^{b}e(x,t)dx$$"
   ]
  },
  {
   "cell_type": "markdown",
   "metadata": {},
   "source": [
    "6. From Step 1, eq [2], we have :\n",
    "$$\\int_{a}^{b}Q(x,t,u)dx + \\phi(a,t) = \\frac{d}{dt}\\int_{a}^{b}e(x,t)dx + \\phi(b,t)$$"
   ]
  },
  {
   "cell_type": "markdown",
   "metadata": {},
   "source": [
    "7. So, \n",
    "$$\\int_{a}^{b}Q(x,t,u)dx = \\phi(b,t) - \\phi(a,t) + \\frac{d}{dt}\\int_{a}^{b}e(x,t)dx $$"
   ]
  },
  {
   "cell_type": "markdown",
   "metadata": {},
   "source": [
    "8. [Fundamental Theorem of Calculus](https://openstax.org/books/calculus-volume-1/pages/5-3-the-fundamental-theorem-of-calculus) gives us :\n",
    "$$\\phi(b,t) - \\phi(a,t) = \\int_{a}^{b}\\frac{\\partial\\phi(x,t)}{\\partial x}dx$$"
   ]
  },
  {
   "cell_type": "markdown",
   "metadata": {},
   "source": [
    "9. $$\\int_{a}^{b}Q(x,t,u)dx = \\int_{a}^{b}\\frac{\\partial\\phi(x,t)}{\\partial x}dx + \\frac{d}{dt}\\int_{a}^{b}e(x,t)dx $$"
   ]
  },
  {
   "cell_type": "markdown",
   "metadata": {},
   "source": [
    "10. Simplify to: \n",
    "$$\\int_{a}^{b}Q(x,t,u)dx = \\int_{a}^{b}\\frac{\\partial\\phi(x,t)}{\\partial x}dx + \\int_{a}^{b}\\frac{\\partial e(x,t)}{\\partial t}dx $$"
   ]
  },
  {
   "cell_type": "markdown",
   "metadata": {},
   "source": [
    "11. Equivalently, \n",
    "\n",
    "$$\\int_{a}^{b} \\left(\\frac{\\partial\\phi(x,t)}{\\partial x} + \\frac{\\partial e(x,t)}{\\partial t} - Q(x,t,u) \\right)dx = 0 $$\n",
    "\n"
   ]
  },
  {
   "cell_type": "markdown",
   "metadata": {},
   "source": [
    "12. Since this is true for any choice of $a$, $b$, and $x$, and any $t>0$, \n",
    "\n",
    "Equation [3]:\n",
    "\n",
    "$$\\frac{\\partial\\phi(x,t)}{\\partial x} + \\frac{\\partial e(x,t)}{\\partial t} - Q(x,t,u) = 0 $$ generally. "
   ]
  },
  {
   "cell_type": "markdown",
   "metadata": {},
   "source": [
    "## Temperature, Specific Heat, Thermal Energy:\n",
    "\n",
    "- recall $u(x,t)$ = heat equation, measure in Kelvin or Celcious\n",
    "    - units $C$ or $K$\n",
    "- $c(x,u)$ = specific heat/ heat capacity = energy required to raise material by one degree of temperature. \n",
    "    - units are in energy per mass per temperature $J/kg*C$\n",
    "- $p(x)$ = mass density of the rod\n",
    "    - units are mass per volume, $kg / m^3$\n",
    "\n",
    "1. Manipulate units of c,p to get e:\n",
    "$$\\frac{J}{kg*C} * \\frac{k}{m^3}* C = \\frac{J}{m^3}$$\n",
    "2. And we get: \n",
    "$$p(x)c(x,u)u(x,t) = e(x,t)$$"
   ]
  },
  {
   "cell_type": "markdown",
   "metadata": {},
   "source": [
    "13. So, plugging into [3], we have:\n",
    "\n",
    "$$\\frac{\\partial}{\\partial t}p(x)c(x,u)u(x,t) + \\frac{\\partial e(x,t)}{\\partial t} - Q(x,t,u) = 0 $$\n",
    "\n",
    "$$p(x)c(x,u)\\frac{\\partial}{\\partial t}u(x,t) + \\frac{\\partial e(x,t)}{\\partial t} - Q(x,t,u) = 0 $$\n",
    "\n",
    "for all $a<x<b$ and $t>0$"
   ]
  },
  {
   "cell_type": "markdown",
   "metadata": {},
   "source": [
    "## Thermal Conductivity and Fourier's Law:\n",
    "\n"
   ]
  },
  {
   "cell_type": "markdown",
   "metadata": {},
   "source": []
  }
 ],
 "metadata": {
  "kernelspec": {
   "display_name": "Python 3",
   "language": "python",
   "name": "python3"
  },
  "language_info": {
   "codemirror_mode": {
    "name": "ipython",
    "version": 3
   },
   "file_extension": ".py",
   "mimetype": "text/x-python",
   "name": "python",
   "nbconvert_exporter": "python",
   "pygments_lexer": "ipython3",
   "version": "3.8.3"
  }
 },
 "nbformat": 4,
 "nbformat_minor": 4
}
